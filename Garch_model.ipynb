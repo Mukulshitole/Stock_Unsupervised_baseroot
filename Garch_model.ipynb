{
 "cells": [
  {
   "cell_type": "code",
   "execution_count": 19,
   "id": "0f386a99",
   "metadata": {
    "scrolled": true
   },
   "outputs": [
    {
     "data": {
      "text/plain": [
       "array([datetime.date(2021, 9, 29), datetime.date(2021, 9, 29),\n",
       "       datetime.date(2021, 9, 29), ..., datetime.date(2023, 9, 20),\n",
       "       datetime.date(2023, 9, 20), datetime.date(2023, 9, 20)],\n",
       "      dtype=object)"
      ]
     },
     "execution_count": 19,
     "metadata": {},
     "output_type": "execute_result"
    }
   ],
   "source": [
    "import matplotlib.pyplot as plt\n",
    "from arch import arch_model\n",
    "import pandas as pd\n",
    "import numpy as np\n",
    "import os\n",
    "\n",
    "# data_folder = 'C:/Users/Mukul/Documents/GitHub/CredenceLearn/Stock_Unsupervised_baseroot'\n",
    "\n",
    "# daily_df = pd.read_csv(os.path.join(data_folder, 'simulated_daily_data.csv'))\n",
    "# daily_df['Date'] = pd.to_datetime(daily_df['Date'])\n",
    "# daily_df = daily_df.set_index('Date')\n",
    "# daily_df['log_ret'] = np.log(daily_df['Adj Close']).diff()\n",
    "\n",
    "# intraday_5min_df = pd.read_csv(os.path.join(data_folder, 'simulated_5min_data.csv'))\n",
    "# intraday_5min_df['datetime'] = pd.to_datetime(intraday_5min_df['datetime'])\n",
    "# intraday_5min_df = intraday_5min_df.set_index('datetime') \n",
    "# intraday_5min_df['date'] = pd.to_datetime(intraday_5min_df['date'])\n",
    "intraday_5min_df.index.date\n"
   ]
  },
  {
   "cell_type": "markdown",
   "id": "3a28eff6",
   "metadata": {},
   "source": [
    "# Define functiion to fit Garch Model and predict 1 day ahead volatility in a rolling window\n",
    "\n",
    "  we are first calculating the 6 month rolling variance and then we are creating a function in a 6 month rolling window to fit a garch model and predict the next day variance\n",
    "  "
   ]
  },
  {
   "cell_type": "code",
   "execution_count": null,
   "id": "c47e3525",
   "metadata": {},
   "outputs": [],
   "source": []
  }
 ],
 "metadata": {
  "kernelspec": {
   "display_name": "Python 3 (ipykernel)",
   "language": "python",
   "name": "python3"
  },
  "language_info": {
   "codemirror_mode": {
    "name": "ipython",
    "version": 3
   },
   "file_extension": ".py",
   "mimetype": "text/x-python",
   "name": "python",
   "nbconvert_exporter": "python",
   "pygments_lexer": "ipython3",
   "version": "3.11.5"
  },
  "varInspector": {
   "cols": {
    "lenName": 16,
    "lenType": 16,
    "lenVar": 40
   },
   "kernels_config": {
    "python": {
     "delete_cmd_postfix": "",
     "delete_cmd_prefix": "del ",
     "library": "var_list.py",
     "varRefreshCmd": "print(var_dic_list())"
    },
    "r": {
     "delete_cmd_postfix": ") ",
     "delete_cmd_prefix": "rm(",
     "library": "var_list.r",
     "varRefreshCmd": "cat(var_dic_list()) "
    }
   },
   "types_to_exclude": [
    "module",
    "function",
    "builtin_function_or_method",
    "instance",
    "_Feature"
   ],
   "window_display": false
  }
 },
 "nbformat": 4,
 "nbformat_minor": 5
}
