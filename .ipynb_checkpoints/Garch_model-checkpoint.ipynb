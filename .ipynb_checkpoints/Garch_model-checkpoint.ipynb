{
 "cells": [
  {
   "cell_type": "code",
   "execution_count": 1,
   "id": "6d2d9562",
   "metadata": {
    "scrolled": true
   },
   "outputs": [
    {
     "ename": "KeyError",
     "evalue": "'date'",
     "output_type": "error",
     "traceback": [
      "\u001b[1;31m---------------------------------------------------------------------------\u001b[0m",
      "\u001b[1;31mKeyError\u001b[0m                                  Traceback (most recent call last)",
      "File \u001b[1;32m~\\anaconda3\\Lib\\site-packages\\pandas\\core\\indexes\\base.py:3790\u001b[0m, in \u001b[0;36mIndex.get_loc\u001b[1;34m(self, key)\u001b[0m\n\u001b[0;32m   3789\u001b[0m \u001b[38;5;28;01mtry\u001b[39;00m:\n\u001b[1;32m-> 3790\u001b[0m     \u001b[38;5;28;01mreturn\u001b[39;00m \u001b[38;5;28mself\u001b[39m\u001b[38;5;241m.\u001b[39m_engine\u001b[38;5;241m.\u001b[39mget_loc(casted_key)\n\u001b[0;32m   3791\u001b[0m \u001b[38;5;28;01mexcept\u001b[39;00m \u001b[38;5;167;01mKeyError\u001b[39;00m \u001b[38;5;28;01mas\u001b[39;00m err:\n",
      "File \u001b[1;32mindex.pyx:152\u001b[0m, in \u001b[0;36mpandas._libs.index.IndexEngine.get_loc\u001b[1;34m()\u001b[0m\n",
      "File \u001b[1;32mindex.pyx:181\u001b[0m, in \u001b[0;36mpandas._libs.index.IndexEngine.get_loc\u001b[1;34m()\u001b[0m\n",
      "File \u001b[1;32mpandas\\_libs\\hashtable_class_helper.pxi:7080\u001b[0m, in \u001b[0;36mpandas._libs.hashtable.PyObjectHashTable.get_item\u001b[1;34m()\u001b[0m\n",
      "File \u001b[1;32mpandas\\_libs\\hashtable_class_helper.pxi:7088\u001b[0m, in \u001b[0;36mpandas._libs.hashtable.PyObjectHashTable.get_item\u001b[1;34m()\u001b[0m\n",
      "\u001b[1;31mKeyError\u001b[0m: 'date'",
      "\nThe above exception was the direct cause of the following exception:\n",
      "\u001b[1;31mKeyError\u001b[0m                                  Traceback (most recent call last)",
      "Cell \u001b[1;32mIn[1], line 17\u001b[0m\n\u001b[0;32m     15\u001b[0m intraday_5min_df[\u001b[38;5;124m'\u001b[39m\u001b[38;5;124mdatetime\u001b[39m\u001b[38;5;124m'\u001b[39m] \u001b[38;5;241m=\u001b[39m pd\u001b[38;5;241m.\u001b[39mto_datetime(intraday_5min_df[\u001b[38;5;124m'\u001b[39m\u001b[38;5;124mdatetime\u001b[39m\u001b[38;5;124m'\u001b[39m])\n\u001b[0;32m     16\u001b[0m intraday_5min_df \u001b[38;5;241m=\u001b[39m intraday_5min_df\u001b[38;5;241m.\u001b[39mset_index(\u001b[38;5;124m'\u001b[39m\u001b[38;5;124mdatetime\u001b[39m\u001b[38;5;124m'\u001b[39m) \n\u001b[1;32m---> 17\u001b[0m intraday_5min_df[\u001b[38;5;124m'\u001b[39m\u001b[38;5;124mdate\u001b[39m\u001b[38;5;124m'\u001b[39m] \u001b[38;5;241m=\u001b[39m pd\u001b[38;5;241m.\u001b[39mto_datetime(intraday_5min_df[\u001b[38;5;124m'\u001b[39m\u001b[38;5;124mdate\u001b[39m\u001b[38;5;124m'\u001b[39m])\n\u001b[0;32m     18\u001b[0m intraday_5min_df\u001b[38;5;241m.\u001b[39mindex\u001b[38;5;241m.\u001b[39mdate\n",
      "File \u001b[1;32m~\\anaconda3\\Lib\\site-packages\\pandas\\core\\frame.py:3896\u001b[0m, in \u001b[0;36mDataFrame.__getitem__\u001b[1;34m(self, key)\u001b[0m\n\u001b[0;32m   3894\u001b[0m \u001b[38;5;28;01mif\u001b[39;00m \u001b[38;5;28mself\u001b[39m\u001b[38;5;241m.\u001b[39mcolumns\u001b[38;5;241m.\u001b[39mnlevels \u001b[38;5;241m>\u001b[39m \u001b[38;5;241m1\u001b[39m:\n\u001b[0;32m   3895\u001b[0m     \u001b[38;5;28;01mreturn\u001b[39;00m \u001b[38;5;28mself\u001b[39m\u001b[38;5;241m.\u001b[39m_getitem_multilevel(key)\n\u001b[1;32m-> 3896\u001b[0m indexer \u001b[38;5;241m=\u001b[39m \u001b[38;5;28mself\u001b[39m\u001b[38;5;241m.\u001b[39mcolumns\u001b[38;5;241m.\u001b[39mget_loc(key)\n\u001b[0;32m   3897\u001b[0m \u001b[38;5;28;01mif\u001b[39;00m is_integer(indexer):\n\u001b[0;32m   3898\u001b[0m     indexer \u001b[38;5;241m=\u001b[39m [indexer]\n",
      "File \u001b[1;32m~\\anaconda3\\Lib\\site-packages\\pandas\\core\\indexes\\base.py:3797\u001b[0m, in \u001b[0;36mIndex.get_loc\u001b[1;34m(self, key)\u001b[0m\n\u001b[0;32m   3792\u001b[0m     \u001b[38;5;28;01mif\u001b[39;00m \u001b[38;5;28misinstance\u001b[39m(casted_key, \u001b[38;5;28mslice\u001b[39m) \u001b[38;5;129;01mor\u001b[39;00m (\n\u001b[0;32m   3793\u001b[0m         \u001b[38;5;28misinstance\u001b[39m(casted_key, abc\u001b[38;5;241m.\u001b[39mIterable)\n\u001b[0;32m   3794\u001b[0m         \u001b[38;5;129;01mand\u001b[39;00m \u001b[38;5;28many\u001b[39m(\u001b[38;5;28misinstance\u001b[39m(x, \u001b[38;5;28mslice\u001b[39m) \u001b[38;5;28;01mfor\u001b[39;00m x \u001b[38;5;129;01min\u001b[39;00m casted_key)\n\u001b[0;32m   3795\u001b[0m     ):\n\u001b[0;32m   3796\u001b[0m         \u001b[38;5;28;01mraise\u001b[39;00m InvalidIndexError(key)\n\u001b[1;32m-> 3797\u001b[0m     \u001b[38;5;28;01mraise\u001b[39;00m \u001b[38;5;167;01mKeyError\u001b[39;00m(key) \u001b[38;5;28;01mfrom\u001b[39;00m \u001b[38;5;21;01merr\u001b[39;00m\n\u001b[0;32m   3798\u001b[0m \u001b[38;5;28;01mexcept\u001b[39;00m \u001b[38;5;167;01mTypeError\u001b[39;00m:\n\u001b[0;32m   3799\u001b[0m     \u001b[38;5;66;03m# If we have a listlike key, _check_indexing_error will raise\u001b[39;00m\n\u001b[0;32m   3800\u001b[0m     \u001b[38;5;66;03m#  InvalidIndexError. Otherwise we fall through and re-raise\u001b[39;00m\n\u001b[0;32m   3801\u001b[0m     \u001b[38;5;66;03m#  the TypeError.\u001b[39;00m\n\u001b[0;32m   3802\u001b[0m     \u001b[38;5;28mself\u001b[39m\u001b[38;5;241m.\u001b[39m_check_indexing_error(key)\n",
      "\u001b[1;31mKeyError\u001b[0m: 'date'"
     ]
    }
   ],
   "source": [
    "import matplotlib.pyplot as plt\n",
    "from arch import arch_model\n",
    "import pandas as pd\n",
    "import numpy as np\n",
    "import os\n",
    "\n",
    "data_folder = 'C:/Users/Mukul/Documents/GitHub/CredenceLearn/Stock_Unsupervised_baseroot'\n",
    "\n",
    "daily_df = pd.read_csv(os.path.join(data_folder, 'simulated_daily_data.csv'))\n",
    "daily_df['Date'] = pd.to_datetime(daily_df['Date'])\n",
    "daily_df = daily_df.set_index('Date')\n",
    "daily_df['log_ret'] = np.log(daily_df['Adj Close']).diff()\n",
    "\n",
    "intraday_5min_df = pd.read_csv(os.path.join(data_folder, 'simulated_5min_data.csv'))\n",
    "intraday_5min_df['datetime'] = pd.to_datetime(intraday_5min_df['datetime'])\n",
    "intraday_5min_df = intraday_5min_df.set_index('datetime') \n",
    "intraday_5min_df['date'] = pd.to_datetime(intraday_5min_df['date'])\n",
    "intraday_5min_df.index.date\n"
   ]
  },
  {
   "cell_type": "markdown",
   "id": "fbfff91d",
   "metadata": {},
   "source": [
    "# Define functiion to fit Garch Model and predict 1 day ahead volatility in a rolling window\n",
    "\n",
    "  we are first calculating the 6 month rolling variance and then we are creating a function in a 6 month rolling window to fit a garch model and predict the next day variance\n",
    "  "
   ]
  },
  {
   "cell_type": "code",
   "execution_count": null,
   "id": "dc8419f0",
   "metadata": {},
   "outputs": [],
   "source": [
    "\n",
    "\n",
    "daily_df['variance'] = daily_df['log_ret'].rolling(180).var()\n",
    "\n",
    "daily_df = daily_df['2020-01-01':]\n",
    "\n",
    "def predict_volatility(x):\n",
    "    \n",
    "    best_model = arch_model(y=x,\n",
    "                            p=1,\n",
    "                            q=3).fit(update_freq=5,\n",
    "                                     disp='off')\n",
    "    \n",
    "    variance_forecast = best_model.forecast(horizon=1).variance.iloc[-1,0]\n",
    "\n",
    "    print(x.index[-1])\n",
    "    \n",
    "    return variance_forecast\n",
    "\n",
    "daily_df['predictions'] = daily_df['log_ret'].rolling(180).apply(lambda x: predict_volatility(x))\n",
    "\n",
    "\n",
    "\n",
    "daily_df\n"
   ]
  },
  {
   "cell_type": "code",
   "execution_count": null,
   "id": "6c0d9578",
   "metadata": {},
   "outputs": [],
   "source": [
    "daily_df"
   ]
  },
  {
   "cell_type": "code",
   "execution_count": null,
   "id": "8abe2726",
   "metadata": {},
   "outputs": [],
   "source": [
    "daily_df[['variance','predictions']].plot()"
   ]
  },
  {
   "cell_type": "markdown",
   "id": "f77b762b",
   "metadata": {},
   "source": [
    "# Calculate prediction premium and form a daily signal from it\n",
    " we are calculating the prediction premium And xalxulate 6 month rolling standard deviation \n",
    " from this we are creating our daily signals"
   ]
  },
  {
   "cell_type": "code",
   "execution_count": null,
   "id": "2c3695ca",
   "metadata": {},
   "outputs": [],
   "source": [
    "daily_df['prediction_premium'] = (daily_df['predictions']- daily_df['variance'])/daily_df['variance']\n",
    "\n",
    "daily_df['premium_std'] = daily_df['prediction_premium'].rolling(180).std()\n",
    "\n",
    "daily_df ['signal_daily'] = daily_df.apply(lambda x : 1 if(x['prediction_premium']>x['premium_std']*1.5)\n",
    "                                          else (-1 if (x['prediction_premium']<x['premium_std']*-1.5) else np.nan),axis=1)\n",
    "daily_df['signal_daily'] = daily_df['signal_daily'].shift() # we are shifting 1 day forward so we can predict signals \n",
    "daily_df"
   ]
  },
  {
   "cell_type": "code",
   "execution_count": null,
   "id": "f5b68a0c",
   "metadata": {},
   "outputs": [],
   "source": [
    "daily_df['predictions_premium'].plot()"
   ]
  },
  {
   "cell_type": "code",
   "execution_count": null,
   "id": "89b92153",
   "metadata": {
    "scrolled": true
   },
   "outputs": [],
   "source": [
    "daily_df['premium_std'].plot()"
   ]
  },
  {
   "cell_type": "markdown",
   "id": "357140fa",
   "metadata": {},
   "source": [
    "# Do -1  and +1 to know when to take short and long signal"
   ]
  },
  {
   "cell_type": "code",
   "execution_count": null,
   "id": "5a6df85d",
   "metadata": {},
   "outputs": [],
   "source": [
    "# subset_df = daily_df[daily_df['signal_daily'] == 1]\n",
    "# print(\"Number of rows:\", subset_df.shape[0])\n",
    "# subset_df"
   ]
  },
  {
   "cell_type": "code",
   "execution_count": null,
   "id": "03542c58",
   "metadata": {},
   "outputs": [],
   "source": [
    "daily_df[daily_df['signal_daily']==-1]"
   ]
  },
  {
   "cell_type": "code",
   "execution_count": null,
   "id": "b4c82016",
   "metadata": {},
   "outputs": [],
   "source": [
    "daily_df['signal_daily'].plot(kind='hist')\n",
    "plt.show()\n",
    "         "
   ]
  },
  {
   "cell_type": "markdown",
   "id": "3fd170e7",
   "metadata": {},
   "source": [
    "# so we can  see that there are 40 short signal and 50 long signals"
   ]
  },
  {
   "cell_type": "markdown",
   "id": "3d08f6d8",
   "metadata": {},
   "source": [
    "# Merge with intraday data and calculate intraday data and calculate intraday indicators to form the intraday signal\n",
    "\n",
    "calculate all intraday indicators and intrady signal"
   ]
  },
  {
   "cell_type": "code",
   "execution_count": null,
   "id": "b19a0cf8",
   "metadata": {},
   "outputs": [],
   "source": [
    "intraday_5min_df.reset_index()\\\n",
    ".merge(daily_df[['signal_daily']].reset_index(),\n",
    "       left_on='date',\n",
    "       right_on='Date')"
   ]
  },
  {
   "cell_type": "code",
   "execution_count": null,
   "id": "279080d9",
   "metadata": {},
   "outputs": [],
   "source": []
  },
  {
   "cell_type": "code",
   "execution_count": null,
   "id": "78a05516",
   "metadata": {},
   "outputs": [],
   "source": []
  }
 ],
 "metadata": {
  "kernelspec": {
   "display_name": "Python 3 (ipykernel)",
   "language": "python",
   "name": "python3"
  },
  "language_info": {
   "codemirror_mode": {
    "name": "ipython",
    "version": 3
   },
   "file_extension": ".py",
   "mimetype": "text/x-python",
   "name": "python",
   "nbconvert_exporter": "python",
   "pygments_lexer": "ipython3",
   "version": "3.11.5"
  },
  "varInspector": {
   "cols": {
    "lenName": 16,
    "lenType": 16,
    "lenVar": 40
   },
   "kernels_config": {
    "python": {
     "delete_cmd_postfix": "",
     "delete_cmd_prefix": "del ",
     "library": "var_list.py",
     "varRefreshCmd": "print(var_dic_list())"
    },
    "r": {
     "delete_cmd_postfix": ") ",
     "delete_cmd_prefix": "rm(",
     "library": "var_list.r",
     "varRefreshCmd": "cat(var_dic_list()) "
    }
   },
   "types_to_exclude": [
    "module",
    "function",
    "builtin_function_or_method",
    "instance",
    "_Feature"
   ],
   "window_display": false
  }
 },
 "nbformat": 4,
 "nbformat_minor": 5
}
